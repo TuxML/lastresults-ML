{
 "cells": [
  {
   "cell_type": "markdown",
   "metadata": {},
   "source": [
    "# Tux for speed"
   ]
  },
  {
   "cell_type": "markdown",
   "metadata": {},
   "source": [
    "### Evaluation of speed for the ML process, with and without feature selection"
   ]
  },
  {
   "cell_type": "markdown",
   "metadata": {},
   "source": [
    "Feature selection process : "
   ]
  },
  {
   "cell_type": "code",
   "execution_count": 1,
   "metadata": {},
   "outputs": [],
   "source": [
    "import pandas as pd\n",
    "dfResults = pd.read_csv(\"old_results/results.csv\")"
   ]
  },
  {
   "cell_type": "markdown",
   "metadata": {},
   "source": [
    "Find the best model considering MAPE mean"
   ]
  },
  {
   "cell_type": "code",
   "execution_count": 2,
   "metadata": {},
   "outputs": [
    {
     "data": {
      "text/plain": [
       "139"
      ]
     },
     "execution_count": 2,
     "metadata": {},
     "output_type": "execute_result"
    }
   ],
   "source": [
    "dfResults.sort_values(\"mean\").iloc[0].name"
   ]
  },
  {
   "cell_type": "markdown",
   "metadata": {},
   "source": [
    "Find the best list in the feature importance file"
   ]
  },
  {
   "cell_type": "code",
   "execution_count": 3,
   "metadata": {},
   "outputs": [],
   "source": [
    "dfImportance = pd.read_csv(\"old_results/feature_importance.csv\")\n",
    "best_list = dfImportance.loc[dfResults.sort_values(\"mean\").iloc[0].name]"
   ]
  },
  {
   "cell_type": "markdown",
   "metadata": {},
   "source": [
    "Select the columns to keep and to drop"
   ]
  },
  {
   "cell_type": "code",
   "execution_count": 4,
   "metadata": {},
   "outputs": [],
   "source": [
    "def select_features(best_list, strategy=\"absolute\", nb_columns=500, quantile=0.98):\n",
    "    if strategy == \"absolute\":\n",
    "        return best_list.sort_values(ascending=False)[:nb_columns],best_list.sort_values(ascending=False)[nb_columns:]\n",
    "    elif strategy == \"percentile\":\n",
    "        return best_list[best_list > best_list.quantile(quantile)], best_list[best_list <= best_list.quantile(quantile)]"
   ]
  },
  {
   "cell_type": "code",
   "execution_count": 5,
   "metadata": {},
   "outputs": [],
   "source": [
    "columns_to_keep, columns_to_drop = select_features(best_list, nb_columns=500)"
   ]
  },
  {
   "cell_type": "markdown",
   "metadata": {},
   "source": [
    "Create the config file to run the experiment on"
   ]
  },
  {
   "cell_type": "code",
   "execution_count": 6,
   "metadata": {},
   "outputs": [],
   "source": [
    "import json\n",
    "size_methods = [\"vmlinux\", \"GZIP-bzImage\", \"GZIP-vmlinux\", \"GZIP\", \"BZIP2-bzImage\", \n",
    "              \"BZIP2-vmlinux\", \"BZIP2\", \"LZMA-bzImage\", \"LZMA-vmlinux\", \"LZMA\", \"XZ-bzImage\", \"XZ-vmlinux\", \"XZ\", \n",
    "              \"LZO-bzImage\", \"LZO-vmlinux\", \"LZO\", \"LZ4-bzImage\", \"LZ4-vmlinux\", \"LZ4\"]\n",
    "\n",
    "config = {\n",
    "    \"max_depth\":25,\n",
    "    \"nbFolds\":5,\n",
    "    \"n_estimators\":48,\n",
    "    \"columns_to_drop\":[\"cid\"]+size_methods+list(columns_to_drop.index),\n",
    "    \"minSampleSize\":75000,\n",
    "    \"maxSampleSize\":75001,\n",
    "    \"paceSampleSize\":1\n",
    "}\n",
    "\n",
    "with open(\"config/config.json\",\"w\") as f:\n",
    "    json.dump(config,f)"
   ]
  },
  {
   "cell_type": "markdown",
   "metadata": {},
   "source": [
    "Running the script with feature selection : "
   ]
  },
  {
   "cell_type": "code",
   "execution_count": 7,
   "metadata": {},
   "outputs": [
    {
     "name": "stdout",
     "output_type": "stream",
     "text": [
      "1564402698.0285175\n",
      "Starting\n",
      "Train size 75000\n",
      "Fold 0\n",
      "Fold 1\n",
      "Fold 2\n",
      "Fold 3\n",
      "Fold 4\n",
      "End\n",
      "1564403057.0533917\n",
      "Total time :  359.02487421035767\n"
     ]
    }
   ],
   "source": [
    "!python3 index.py"
   ]
  },
  {
   "cell_type": "markdown",
   "metadata": {},
   "source": [
    "With 5 folds and 48 estimators, a training set of 75k rows and a max depth of 25, the process takes roughly 6 minutes."
   ]
  },
  {
   "cell_type": "code",
   "execution_count": 10,
   "metadata": {},
   "outputs": [],
   "source": [
    "\n",
    "config = {\n",
    "    \"max_depth\":25,\n",
    "    \"nbFolds\":5,\n",
    "    \"n_estimators\":48,\n",
    "    \"columns_to_drop\":[\"cid\"]+size_methods,\n",
    "    \"minSampleSize\":75000,\n",
    "    \"maxSampleSize\":75001,\n",
    "    \"paceSampleSize\":1\n",
    "}\n",
    "\n",
    "with open(\"config/config.json\",\"w\") as f:\n",
    "    json.dump(config,f)"
   ]
  },
  {
   "cell_type": "code",
   "execution_count": 11,
   "metadata": {},
   "outputs": [
    {
     "name": "stdout",
     "output_type": "stream",
     "text": [
      "1564406615.4647942\n",
      "Starting\n",
      "Train size 75000\n",
      "Fold 0\n",
      "Fold 1\n",
      "Fold 2\n",
      "Fold 3\n",
      "Fold 4\n",
      "End\n",
      "1564414574.5938969\n",
      "Total time :  7959.129102706909\n"
     ]
    }
   ],
   "source": [
    "!python3 index.py"
   ]
  },
  {
   "cell_type": "markdown",
   "metadata": {},
   "source": [
    "With the same configuration but without feature selection, working on 9000+ columns, the process takes 132 minutes, meaning 22 times more than when working on 500 features."
   ]
  },
  {
   "cell_type": "code",
   "execution_count": null,
   "metadata": {},
   "outputs": [],
   "source": []
  }
 ],
 "metadata": {
  "kernelspec": {
   "display_name": "Python 3",
   "language": "python",
   "name": "python3"
  },
  "language_info": {
   "codemirror_mode": {
    "name": "ipython",
    "version": 3
   },
   "file_extension": ".py",
   "mimetype": "text/x-python",
   "name": "python",
   "nbconvert_exporter": "python",
   "pygments_lexer": "ipython3",
   "version": "3.6.8"
  }
 },
 "nbformat": 4,
 "nbformat_minor": 2
}
