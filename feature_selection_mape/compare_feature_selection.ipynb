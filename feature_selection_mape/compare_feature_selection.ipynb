{
 "cells": [
  {
   "cell_type": "code",
   "execution_count": 1,
   "metadata": {},
   "outputs": [],
   "source": [
    "import pandas as pd"
   ]
  },
  {
   "cell_type": "code",
   "execution_count": 2,
   "metadata": {},
   "outputs": [],
   "source": [
    "df_no_select = pd.read_csv(\"results_no_fselect/results.csv\")"
   ]
  },
  {
   "cell_type": "code",
   "execution_count": 3,
   "metadata": {},
   "outputs": [],
   "source": [
    "df_select = pd.read_csv(\"results_fselect/results.csv\")"
   ]
  },
  {
   "cell_type": "code",
   "execution_count": 4,
   "metadata": {},
   "outputs": [],
   "source": [
    "df_select_200 = pd.read_csv(\"results_fselect_200/results.csv\")"
   ]
  },
  {
   "cell_type": "code",
   "execution_count": 5,
   "metadata": {},
   "outputs": [
    {
     "data": {
      "text/plain": [
       "max_depth\n",
       "14    9.791966\n",
       "15    9.436186\n",
       "16    9.157953\n",
       "17    8.961379\n",
       "18    8.823126\n",
       "19    8.762257\n",
       "20    8.743000\n",
       "21    8.730852\n",
       "22    8.688029\n",
       "23    8.711919\n",
       "24    8.702720\n",
       "25    8.674659\n",
       "Name: mean, dtype: float64"
      ]
     },
     "execution_count": 5,
     "metadata": {},
     "output_type": "execute_result"
    }
   ],
   "source": [
    "df_no_select.groupby(\"max_depth\").mean()[\"mean\"]"
   ]
  },
  {
   "cell_type": "code",
   "execution_count": 6,
   "metadata": {},
   "outputs": [
    {
     "data": {
      "text/plain": [
       "max_depth\n",
       "14    9.401077\n",
       "15    9.019941\n",
       "16    8.760809\n",
       "17    8.570205\n",
       "18    8.403268\n",
       "19    8.358690\n",
       "20    8.296748\n",
       "21    8.269118\n",
       "22    8.263917\n",
       "23    8.243600\n",
       "24    8.246139\n",
       "25    8.227545\n",
       "Name: mean, dtype: float64"
      ]
     },
     "execution_count": 6,
     "metadata": {},
     "output_type": "execute_result"
    }
   ],
   "source": [
    "df_select.groupby(\"max_depth\").mean()[\"mean\"]"
   ]
  },
  {
   "cell_type": "code",
   "execution_count": 7,
   "metadata": {},
   "outputs": [
    {
     "data": {
      "text/plain": [
       "max_depth\n",
       "14    9.235228\n",
       "15    8.850428\n",
       "16    8.559730\n",
       "17    8.362735\n",
       "18    8.205058\n",
       "19    8.135538\n",
       "20    8.030150\n",
       "21    8.013510\n",
       "22    8.005097\n",
       "23    7.974955\n",
       "24    7.978128\n",
       "25    7.989139\n",
       "Name: mean, dtype: float64"
      ]
     },
     "execution_count": 7,
     "metadata": {},
     "output_type": "execute_result"
    }
   ],
   "source": [
    "df_select_200.groupby(\"max_depth\").mean()[\"mean\"]"
   ]
  },
  {
   "cell_type": "code",
   "execution_count": 8,
   "metadata": {},
   "outputs": [
    {
     "data": {
      "text/html": [
       "<div>\n",
       "<style scoped>\n",
       "    .dataframe tbody tr th:only-of-type {\n",
       "        vertical-align: middle;\n",
       "    }\n",
       "\n",
       "    .dataframe tbody tr th {\n",
       "        vertical-align: top;\n",
       "    }\n",
       "\n",
       "    .dataframe thead th {\n",
       "        text-align: right;\n",
       "    }\n",
       "</style>\n",
       "<table border=\"1\" class=\"dataframe\">\n",
       "  <thead>\n",
       "    <tr style=\"text-align: right;\">\n",
       "      <th></th>\n",
       "      <th>with_selection_200</th>\n",
       "      <th>with_selection_500</th>\n",
       "      <th>without_selection</th>\n",
       "    </tr>\n",
       "    <tr>\n",
       "      <th>max_depth</th>\n",
       "      <th></th>\n",
       "      <th></th>\n",
       "      <th></th>\n",
       "    </tr>\n",
       "  </thead>\n",
       "  <tbody>\n",
       "    <tr>\n",
       "      <th>14</th>\n",
       "      <td>9.235228</td>\n",
       "      <td>9.401077</td>\n",
       "      <td>9.791966</td>\n",
       "    </tr>\n",
       "    <tr>\n",
       "      <th>15</th>\n",
       "      <td>8.850428</td>\n",
       "      <td>9.019941</td>\n",
       "      <td>9.436186</td>\n",
       "    </tr>\n",
       "    <tr>\n",
       "      <th>16</th>\n",
       "      <td>8.559730</td>\n",
       "      <td>8.760809</td>\n",
       "      <td>9.157953</td>\n",
       "    </tr>\n",
       "    <tr>\n",
       "      <th>17</th>\n",
       "      <td>8.362735</td>\n",
       "      <td>8.570205</td>\n",
       "      <td>8.961379</td>\n",
       "    </tr>\n",
       "    <tr>\n",
       "      <th>18</th>\n",
       "      <td>8.205058</td>\n",
       "      <td>8.403268</td>\n",
       "      <td>8.823126</td>\n",
       "    </tr>\n",
       "    <tr>\n",
       "      <th>19</th>\n",
       "      <td>8.135538</td>\n",
       "      <td>8.358690</td>\n",
       "      <td>8.762257</td>\n",
       "    </tr>\n",
       "    <tr>\n",
       "      <th>20</th>\n",
       "      <td>8.030150</td>\n",
       "      <td>8.296748</td>\n",
       "      <td>8.743000</td>\n",
       "    </tr>\n",
       "    <tr>\n",
       "      <th>21</th>\n",
       "      <td>8.013510</td>\n",
       "      <td>8.269118</td>\n",
       "      <td>8.730852</td>\n",
       "    </tr>\n",
       "    <tr>\n",
       "      <th>22</th>\n",
       "      <td>8.005097</td>\n",
       "      <td>8.263917</td>\n",
       "      <td>8.688029</td>\n",
       "    </tr>\n",
       "    <tr>\n",
       "      <th>23</th>\n",
       "      <td>7.974955</td>\n",
       "      <td>8.243600</td>\n",
       "      <td>8.711919</td>\n",
       "    </tr>\n",
       "    <tr>\n",
       "      <th>24</th>\n",
       "      <td>7.978128</td>\n",
       "      <td>8.246139</td>\n",
       "      <td>8.702720</td>\n",
       "    </tr>\n",
       "    <tr>\n",
       "      <th>25</th>\n",
       "      <td>7.989139</td>\n",
       "      <td>8.227545</td>\n",
       "      <td>8.674659</td>\n",
       "    </tr>\n",
       "  </tbody>\n",
       "</table>\n",
       "</div>"
      ],
      "text/plain": [
       "           with_selection_200  with_selection_500  without_selection\n",
       "max_depth                                                           \n",
       "14                   9.235228            9.401077           9.791966\n",
       "15                   8.850428            9.019941           9.436186\n",
       "16                   8.559730            8.760809           9.157953\n",
       "17                   8.362735            8.570205           8.961379\n",
       "18                   8.205058            8.403268           8.823126\n",
       "19                   8.135538            8.358690           8.762257\n",
       "20                   8.030150            8.296748           8.743000\n",
       "21                   8.013510            8.269118           8.730852\n",
       "22                   8.005097            8.263917           8.688029\n",
       "23                   7.974955            8.243600           8.711919\n",
       "24                   7.978128            8.246139           8.702720\n",
       "25                   7.989139            8.227545           8.674659"
      ]
     },
     "execution_count": 8,
     "metadata": {},
     "output_type": "execute_result"
    }
   ],
   "source": [
    "df_compare = pd.DataFrame({\"with_selection_200\":df_select_200.groupby(\"max_depth\").mean()[\"mean\"],\"with_selection_500\":df_select.groupby(\"max_depth\").mean()[\"mean\"],\"without_selection\":df_no_select.groupby(\"max_depth\").mean()[\"mean\"]})\n",
    "df_compare"
   ]
  },
  {
   "cell_type": "code",
   "execution_count": 10,
   "metadata": {},
   "outputs": [
    {
     "data": {
      "text/plain": [
       "<matplotlib.axes._subplots.AxesSubplot at 0x7f530be42128>"
      ]
     },
     "execution_count": 10,
     "metadata": {},
     "output_type": "execute_result"
    },
    {
     "data": {
      "image/png": "[encoded data removed]",
      "text/plain": [
       "<Figure size 432x288 with 1 Axes>"
      ]
     },
     "metadata": {
      "needs_background": "light"
     },
     "output_type": "display_data"
    }
   ],
   "source": [
    "df_compare.plot()"
   ]
  },
  {
   "cell_type": "code",
   "execution_count": 11,
   "metadata": {},
   "outputs": [
    {
     "data": {
      "text/plain": [
       "<matplotlib.axes._subplots.AxesSubplot at 0x7f530bdc0278>"
      ]
     },
     "execution_count": 11,
     "metadata": {},
     "output_type": "execute_result"
    },
    {
     "data": {
      "image/png": "[encoded data removed]",
      "text/plain": [
       "<Figure size 432x288 with 1 Axes>"
      ]
     },
     "metadata": {
      "needs_background": "light"
     },
     "output_type": "display_data"
    }
   ],
   "source": [
    "df_compare.plot(ylim=[0,10])"
   ]
  },
  {
   "cell_type": "code",
   "execution_count": null,
   "metadata": {},
   "outputs": [],
   "source": []
  }
 ],
 "metadata": {
  "kernelspec": {
   "display_name": "Python 3",
   "language": "python",
   "name": "python3"
  },
  "language_info": {
   "codemirror_mode": {
    "name": "ipython",
    "version": 3
   },
   "file_extension": ".py",
   "mimetype": "text/x-python",
   "name": "python",
   "nbconvert_exporter": "python",
   "pygments_lexer": "ipython3",
   "version": "3.6.8"
  }
 },
 "nbformat": 4,
 "nbformat_minor": 2
}
