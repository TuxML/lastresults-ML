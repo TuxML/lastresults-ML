{
 "cells": [
  {
   "cell_type": "code",
   "execution_count": 1,
   "metadata": {},
   "outputs": [],
   "source": [
    "import pandas as pd\n",
    "res = pd.read_csv(\"results.csv\")\n",
    "fti = pd.read_csv(\"feature_importance.csv\")"
   ]
  },
  {
   "cell_type": "code",
   "execution_count": 2,
   "metadata": {},
   "outputs": [
    {
     "data": {
      "text/html": [
       "<div>\n",
       "<style scoped>\n",
       "    .dataframe tbody tr th:only-of-type {\n",
       "        vertical-align: middle;\n",
       "    }\n",
       "\n",
       "    .dataframe tbody tr th {\n",
       "        vertical-align: top;\n",
       "    }\n",
       "\n",
       "    .dataframe thead th {\n",
       "        text-align: right;\n",
       "    }\n",
       "</style>\n",
       "<table border=\"1\" class=\"dataframe\">\n",
       "  <thead>\n",
       "    <tr style=\"text-align: right;\">\n",
       "      <th></th>\n",
       "      <th>count</th>\n",
       "      <th>mean</th>\n",
       "      <th>std</th>\n",
       "      <th>min</th>\n",
       "      <th>25%</th>\n",
       "      <th>50%</th>\n",
       "      <th>75%</th>\n",
       "      <th>max</th>\n",
       "      <th>criterion</th>\n",
       "      <th>max_depth</th>\n",
       "      <th>...</th>\n",
       "      <th>max_features</th>\n",
       "      <th>random_state</th>\n",
       "      <th>max_leaf_nodes</th>\n",
       "      <th>min_impurity_decrease</th>\n",
       "      <th>min_impurity_split</th>\n",
       "      <th>n_estimators</th>\n",
       "      <th>n_jobs</th>\n",
       "      <th>random_id</th>\n",
       "      <th>train_size</th>\n",
       "      <th>nb_yes</th>\n",
       "    </tr>\n",
       "  </thead>\n",
       "  <tbody>\n",
       "    <tr>\n",
       "      <th>0</th>\n",
       "      <td>12355.0</td>\n",
       "      <td>8.444641</td>\n",
       "      <td>8.045545</td>\n",
       "      <td>0.000257</td>\n",
       "      <td>3.011135</td>\n",
       "      <td>6.494393</td>\n",
       "      <td>11.434185</td>\n",
       "      <td>144.956966</td>\n",
       "      <td>mse</td>\n",
       "      <td>35</td>\n",
       "      <td>...</td>\n",
       "      <td>auto</td>\n",
       "      <td>NaN</td>\n",
       "      <td>NaN</td>\n",
       "      <td>1.000000e-07</td>\n",
       "      <td>0</td>\n",
       "      <td>100</td>\n",
       "      <td>-1</td>\n",
       "      <td>0.252778</td>\n",
       "      <td>90000.0</td>\n",
       "      <td>1.0</td>\n",
       "    </tr>\n",
       "  </tbody>\n",
       "</table>\n",
       "<p>1 rows × 23 columns</p>\n",
       "</div>"
      ],
      "text/plain": [
       "     count      mean       std       min       25%       50%        75%  \\\n",
       "0  12355.0  8.444641  8.045545  0.000257  3.011135  6.494393  11.434185   \n",
       "\n",
       "          max criterion  max_depth  ...  max_features  random_state  \\\n",
       "0  144.956966       mse         35  ...          auto           NaN   \n",
       "\n",
       "   max_leaf_nodes min_impurity_decrease  min_impurity_split  n_estimators  \\\n",
       "0             NaN          1.000000e-07                   0           100   \n",
       "\n",
       "   n_jobs  random_id  train_size  nb_yes  \n",
       "0      -1   0.252778     90000.0     1.0  \n",
       "\n",
       "[1 rows x 23 columns]"
      ]
     },
     "execution_count": 2,
     "metadata": {},
     "output_type": "execute_result"
    }
   ],
   "source": [
    "res"
   ]
  },
  {
   "cell_type": "code",
   "execution_count": null,
   "metadata": {},
   "outputs": [],
   "source": [
    "fti.iloc[0].sort_values(ascending=False) \n",
    "# fti.iloc[0].rank(ascending=False)['CC_OPTIMIZE_FOR_SIZE']\n",
    "# fti.iloc[0].rank(ascending=False)['DEBUG_INFO']"
   ]
  },
  {
   "cell_type": "code",
   "execution_count": null,
   "metadata": {},
   "outputs": [],
   "source": []
  }
 ],
 "metadata": {
  "kernelspec": {
   "display_name": "Python 3",
   "language": "python",
   "name": "python3"
  },
  "language_info": {
   "codemirror_mode": {
    "name": "ipython",
    "version": 3
   },
   "file_extension": ".py",
   "mimetype": "text/x-python",
   "name": "python",
   "nbconvert_exporter": "python",
   "pygments_lexer": "ipython3",
   "version": "3.7.3"
  }
 },
 "nbformat": 4,
 "nbformat_minor": 2
}
