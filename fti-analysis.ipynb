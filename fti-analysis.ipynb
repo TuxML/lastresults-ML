{
 "cells": [
  {
   "cell_type": "code",
   "execution_count": 1,
   "metadata": {},
   "outputs": [],
   "source": [
    "import pandas as pd\n",
    "res = pd.read_csv(\"results-noyes/results.csv\")\n",
    "fti = pd.read_csv(\"results-noyes/feature_importance.csv\")\n",
    "# res = pd.read_csv(\"results-gzip/results.csv\")\n",
    "# fti = pd.read_csv(\"results-gzip/feature_importance.csv\")"
   ]
  },
  {
   "cell_type": "code",
   "execution_count": 2,
   "metadata": {},
   "outputs": [
    {
     "data": {
      "text/html": [
       "<div>\n",
       "<style scoped>\n",
       "    .dataframe tbody tr th:only-of-type {\n",
       "        vertical-align: middle;\n",
       "    }\n",
       "\n",
       "    .dataframe tbody tr th {\n",
       "        vertical-align: top;\n",
       "    }\n",
       "\n",
       "    .dataframe thead th {\n",
       "        text-align: right;\n",
       "    }\n",
       "</style>\n",
       "<table border=\"1\" class=\"dataframe\">\n",
       "  <thead>\n",
       "    <tr style=\"text-align: right;\">\n",
       "      <th></th>\n",
       "      <th>count</th>\n",
       "      <th>mean</th>\n",
       "      <th>std</th>\n",
       "      <th>min</th>\n",
       "      <th>25%</th>\n",
       "      <th>50%</th>\n",
       "      <th>75%</th>\n",
       "      <th>max</th>\n",
       "      <th>criterion</th>\n",
       "      <th>max_depth</th>\n",
       "      <th>...</th>\n",
       "      <th>max_leaf_nodes</th>\n",
       "      <th>min_impurity_decrease</th>\n",
       "      <th>min_impurity_split</th>\n",
       "      <th>n_estimators</th>\n",
       "      <th>n_jobs</th>\n",
       "      <th>random_id</th>\n",
       "      <th>train_size</th>\n",
       "      <th>nb_yes</th>\n",
       "      <th>algo</th>\n",
       "      <th>perf</th>\n",
       "    </tr>\n",
       "  </thead>\n",
       "  <tbody>\n",
       "    <tr>\n",
       "      <th>0</th>\n",
       "      <td>412355.0</td>\n",
       "      <td>15.010837</td>\n",
       "      <td>18.091567</td>\n",
       "      <td>0.000025</td>\n",
       "      <td>4.641696</td>\n",
       "      <td>10.22498</td>\n",
       "      <td>19.055876</td>\n",
       "      <td>843.057740</td>\n",
       "      <td>mse</td>\n",
       "      <td>25</td>\n",
       "      <td>...</td>\n",
       "      <td>NaN</td>\n",
       "      <td>1.000000e-07</td>\n",
       "      <td>0</td>\n",
       "      <td>100</td>\n",
       "      <td>-1</td>\n",
       "      <td>0.662353</td>\n",
       "      <td>10000</td>\n",
       "      <td>1</td>\n",
       "      <td>rf</td>\n",
       "      <td>vmlinux</td>\n",
       "    </tr>\n",
       "    <tr>\n",
       "      <th>1</th>\n",
       "      <td>362355.0</td>\n",
       "      <td>12.855932</td>\n",
       "      <td>13.687868</td>\n",
       "      <td>0.000008</td>\n",
       "      <td>4.212797</td>\n",
       "      <td>9.23968</td>\n",
       "      <td>16.971768</td>\n",
       "      <td>528.881275</td>\n",
       "      <td>mse</td>\n",
       "      <td>25</td>\n",
       "      <td>...</td>\n",
       "      <td>None</td>\n",
       "      <td>1.000000e-07</td>\n",
       "      <td>0</td>\n",
       "      <td>100</td>\n",
       "      <td>-1</td>\n",
       "      <td>0.662353</td>\n",
       "      <td>20000</td>\n",
       "      <td>1</td>\n",
       "      <td>rf</td>\n",
       "      <td>vmlinux</td>\n",
       "    </tr>\n",
       "  </tbody>\n",
       "</table>\n",
       "<p>2 rows × 25 columns</p>\n",
       "</div>"
      ],
      "text/plain": [
       "      count       mean        std       min       25%       50%        75%  \\\n",
       "0  412355.0  15.010837  18.091567  0.000025  4.641696  10.22498  19.055876   \n",
       "1  362355.0  12.855932  13.687868  0.000008  4.212797   9.23968  16.971768   \n",
       "\n",
       "          max criterion  max_depth  ...  max_leaf_nodes  \\\n",
       "0  843.057740       mse         25  ...             NaN   \n",
       "1  528.881275       mse         25  ...            None   \n",
       "\n",
       "   min_impurity_decrease  min_impurity_split n_estimators n_jobs random_id  \\\n",
       "0           1.000000e-07                   0          100     -1  0.662353   \n",
       "1           1.000000e-07                   0          100     -1  0.662353   \n",
       "\n",
       "   train_size  nb_yes  algo     perf  \n",
       "0       10000       1    rf  vmlinux  \n",
       "1       20000       1    rf  vmlinux  \n",
       "\n",
       "[2 rows x 25 columns]"
      ]
     },
     "execution_count": 2,
     "metadata": {},
     "output_type": "execute_result"
    }
   ],
   "source": [
    "res"
   ]
  },
  {
   "cell_type": "code",
   "execution_count": 9,
   "metadata": {},
   "outputs": [
    {
     "data": {
      "text/plain": [
       "6.0"
      ]
     },
     "execution_count": 9,
     "metadata": {},
     "output_type": "execute_result"
    }
   ],
   "source": [
    "fti.iloc[1].rank(ascending=False)['MODULES'] # sort_values(ascending=False).\n",
    "# vmlinux = fti.iloc[0].sort_values(ascending=False)\n",
    "# gzip_vmlinux = fti.iloc[1].sort_values(ascending=False)\n",
    "# abs(vmlinux.rank(ascending=False)[:100] - gzip_vmlinux.rank(ascending=False)[:100]).sort_values()[:100]\n",
    "#list(set(vmlinux[:100].index) & set(gzip_vmlinux[:100].index))\n",
    "#list(set(vmlinux[:100].index) - set(gzip_vmlinux[:100].index))\n",
    "# fti.iloc[0].rank(ascending=False)['CC_OPTIMIZE_FOR_SIZE']\n",
    "# fti.iloc[0].rank(ascending=False)['DEBUG_INFO']"
   ]
  },
  {
   "cell_type": "code",
   "execution_count": 4,
   "metadata": {},
   "outputs": [
    {
     "name": "stderr",
     "output_type": "stream",
     "text": [
      "/usr/local/lib/python3.7/site-packages/pandas/plotting/_core.py:1001: UserWarning: Attempting to set identical left==right results\n",
      "in singular transformations; automatically expanding.\n",
      "left=90000.0, right=90000.0\n",
      "  ax.set_xlim(left, right)\n"
     ]
    },
    {
     "data": {
      "text/plain": [
       "<matplotlib.axes._subplots.AxesSubplot at 0x119609cf8>"
      ]
     },
     "execution_count": 4,
     "metadata": {},
     "output_type": "execute_result"
    }
   ],
   "source": [
    "res.plot(y=\"mean\", x=\"train_size\")"
   ]
  },
  {
   "cell_type": "code",
   "execution_count": null,
   "metadata": {},
   "outputs": [],
   "source": []
  }
 ],
 "metadata": {
  "kernelspec": {
   "display_name": "Python 3",
   "language": "python",
   "name": "python3"
  },
  "language_info": {
   "codemirror_mode": {
    "name": "ipython",
    "version": 3
   },
   "file_extension": ".py",
   "mimetype": "text/x-python",
   "name": "python",
   "nbconvert_exporter": "python",
   "pygments_lexer": "ipython3",
   "version": "3.7.3"
  }
 },
 "nbformat": 4,
 "nbformat_minor": 2
}
