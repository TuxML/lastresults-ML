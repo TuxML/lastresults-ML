{
 "cells": [
  {
   "cell_type": "code",
   "execution_count": 1,
   "metadata": {},
   "outputs": [],
   "source": [
    "import pandas as pd\n",
    "res = pd.read_csv(\"results.csv\")\n",
    "fti = pd.read_csv(\"feature_importance.csv\")"
   ]
  },
  {
   "cell_type": "code",
   "execution_count": 2,
   "metadata": {},
   "outputs": [
    {
     "data": {
      "text/html": [
       "<div>\n",
       "<style scoped>\n",
       "    .dataframe tbody tr th:only-of-type {\n",
       "        vertical-align: middle;\n",
       "    }\n",
       "\n",
       "    .dataframe tbody tr th {\n",
       "        vertical-align: top;\n",
       "    }\n",
       "\n",
       "    .dataframe thead th {\n",
       "        text-align: right;\n",
       "    }\n",
       "</style>\n",
       "<table border=\"1\" class=\"dataframe\">\n",
       "  <thead>\n",
       "    <tr style=\"text-align: right;\">\n",
       "      <th></th>\n",
       "      <th>count</th>\n",
       "      <th>mean</th>\n",
       "      <th>std</th>\n",
       "      <th>min</th>\n",
       "      <th>25%</th>\n",
       "      <th>50%</th>\n",
       "      <th>75%</th>\n",
       "      <th>max</th>\n",
       "      <th>criterion</th>\n",
       "      <th>max_depth</th>\n",
       "      <th>...</th>\n",
       "      <th>max_features</th>\n",
       "      <th>random_state</th>\n",
       "      <th>max_leaf_nodes</th>\n",
       "      <th>min_impurity_decrease</th>\n",
       "      <th>min_impurity_split</th>\n",
       "      <th>n_estimators</th>\n",
       "      <th>n_jobs</th>\n",
       "      <th>random_id</th>\n",
       "      <th>train_size</th>\n",
       "      <th>nb_yes</th>\n",
       "    </tr>\n",
       "  </thead>\n",
       "  <tbody>\n",
       "    <tr>\n",
       "      <th>0</th>\n",
       "      <td>262355.0</td>\n",
       "      <td>9.469426</td>\n",
       "      <td>9.518041</td>\n",
       "      <td>0.000012</td>\n",
       "      <td>3.300615</td>\n",
       "      <td>7.045899</td>\n",
       "      <td>12.716301</td>\n",
       "      <td>229.825296</td>\n",
       "      <td>mse</td>\n",
       "      <td>25</td>\n",
       "      <td>...</td>\n",
       "      <td>auto</td>\n",
       "      <td>NaN</td>\n",
       "      <td>NaN</td>\n",
       "      <td>1.000000e-07</td>\n",
       "      <td>0</td>\n",
       "      <td>100</td>\n",
       "      <td>-1</td>\n",
       "      <td>0.013907</td>\n",
       "      <td>40000.0</td>\n",
       "      <td>1.0</td>\n",
       "    </tr>\n",
       "    <tr>\n",
       "      <th>1</th>\n",
       "      <td>212355.0</td>\n",
       "      <td>9.156703</td>\n",
       "      <td>8.868835</td>\n",
       "      <td>0.000005</td>\n",
       "      <td>3.222259</td>\n",
       "      <td>6.909369</td>\n",
       "      <td>12.345987</td>\n",
       "      <td>197.227464</td>\n",
       "      <td>mse</td>\n",
       "      <td>25</td>\n",
       "      <td>...</td>\n",
       "      <td>auto</td>\n",
       "      <td>None</td>\n",
       "      <td>None</td>\n",
       "      <td>1.000000e-07</td>\n",
       "      <td>0</td>\n",
       "      <td>100</td>\n",
       "      <td>-1</td>\n",
       "      <td>0.013907</td>\n",
       "      <td>50000.0</td>\n",
       "      <td>1.0</td>\n",
       "    </tr>\n",
       "  </tbody>\n",
       "</table>\n",
       "<p>2 rows × 23 columns</p>\n",
       "</div>"
      ],
      "text/plain": [
       "      count      mean       std       min       25%       50%        75%  \\\n",
       "0  262355.0  9.469426  9.518041  0.000012  3.300615  7.045899  12.716301   \n",
       "1  212355.0  9.156703  8.868835  0.000005  3.222259  6.909369  12.345987   \n",
       "\n",
       "          max criterion  max_depth  ...  max_features  random_state  \\\n",
       "0  229.825296       mse         25  ...          auto           NaN   \n",
       "1  197.227464       mse         25  ...          auto          None   \n",
       "\n",
       "   max_leaf_nodes min_impurity_decrease min_impurity_split n_estimators  \\\n",
       "0             NaN          1.000000e-07                  0          100   \n",
       "1            None          1.000000e-07                  0          100   \n",
       "\n",
       "   n_jobs  random_id  train_size  nb_yes  \n",
       "0      -1   0.013907     40000.0     1.0  \n",
       "1      -1   0.013907     50000.0     1.0  \n",
       "\n",
       "[2 rows x 23 columns]"
      ]
     },
     "execution_count": 2,
     "metadata": {},
     "output_type": "execute_result"
    }
   ],
   "source": [
    "res"
   ]
  },
  {
   "cell_type": "code",
   "execution_count": 3,
   "metadata": {},
   "outputs": [
    {
     "data": {
      "text/plain": [
       "DEBUG_INFO                  3.280106e-01\n",
       "nbyes                       1.749840e-01\n",
       "DEBUG_INFO_REDUCED          1.160842e-01\n",
       "DEBUG_INFO_SPLIT            9.364543e-02\n",
       "RANDOMIZE_BASE              7.397320e-02\n",
       "X86_NEED_RELOCS             6.773465e-02\n",
       "UBSAN_SANITIZE_ALL          3.168797e-02\n",
       "KASAN_OUTLINE               7.483196e-03\n",
       "KASAN                       7.095532e-03\n",
       "UBSAN_ALIGNMENT             5.591638e-03\n",
       "GCOV_PROFILE_ALL            5.531252e-03\n",
       "nbno                        3.814368e-03\n",
       "nbyesmodule                 3.680524e-03\n",
       "XFS_DEBUG                   2.848992e-03\n",
       "XFS_FS                      8.042202e-04\n",
       "KCOV_INSTRUMENT_ALL         7.818830e-04\n",
       "DRM_NOUVEAU                 6.489696e-04\n",
       "MAXSMP                      5.386003e-04\n",
       "ATH5K_TRACER                4.110924e-04\n",
       "UBSAN_NULL                  3.768422e-04\n",
       "BLK_MQ_PCI                  3.668119e-04\n",
       "FDDI                        3.562506e-04\n",
       "MMU_NOTIFIER                3.259884e-04\n",
       "X86_VSMP                    3.068076e-04\n",
       "DRM_AMDGPU                  2.704839e-04\n",
       "RANDOMIZE_MEMORY            2.662935e-04\n",
       "MDIO_THUNDER                2.246033e-04\n",
       "MDIO                        2.174287e-04\n",
       "DRM_GMA500                  2.002264e-04\n",
       "SCSI_ISCSI_ATTRS            1.898072e-04\n",
       "                                ...     \n",
       "KERNFS                      5.824688e-09\n",
       "RTL8192CU                   5.776745e-09\n",
       "RT2400PCI                   5.236387e-09\n",
       "CRYPTO_ALGAPI               4.708684e-09\n",
       "CRYPTO_WORKQUEUE            4.587043e-09\n",
       "DWMAC_STM32                 4.569346e-09\n",
       "CRYPTO_AKCIPHER2            4.423161e-09\n",
       "CRYPTO_KPP2                 4.038589e-09\n",
       "VIDEO_S5P_FIMC              3.989366e-09\n",
       "DWMAC_STI                   3.882512e-09\n",
       "ATH6KL_REGDOMAIN            3.264276e-09\n",
       "DWMAC_LPC18XX               3.020014e-09\n",
       "DWMAC_SUN8I                 2.757713e-09\n",
       "CRYPTO_BLKCIPHER2           2.680829e-09\n",
       "VIDEO_S5P_MIPI_CSIS         2.579712e-09\n",
       "IWLWIFI_OPMODE_MODULAR      2.487241e-09\n",
       "DEFAULT_WESTWOOD            2.375795e-09\n",
       "CRC32_SLICEBY8              2.277242e-09\n",
       "VIDEO_SAMSUNG_EXYNOS4_IS    2.268086e-09\n",
       "MFD_CORE                    2.022242e-09\n",
       "CRYPTO_NULL2                1.855636e-09\n",
       "CRYPTO_HASH                 1.672000e-09\n",
       "MLXSW_SPECTRUM_DCB          1.428140e-09\n",
       "CRYPTO_DRBG_HMAC            1.395894e-09\n",
       "BITREVERSE                  1.319295e-09\n",
       "REGMAP                      1.048388e-09\n",
       "DEFAULT_CDG                 6.390256e-10\n",
       "DEFAULT_BBR                 4.982351e-10\n",
       "DEFAULT_RENO                4.482751e-12\n",
       "USB_MUSB_JZ4740             1.803481e-12\n",
       "Name: 0, Length: 9239, dtype: float64"
      ]
     },
     "execution_count": 3,
     "metadata": {},
     "output_type": "execute_result"
    }
   ],
   "source": [
    "fti.iloc[0].sort_values(ascending=False) \n",
    "# fti.iloc[0].rank(ascending=False)['CC_OPTIMIZE_FOR_SIZE']\n",
    "# fti.iloc[0].rank(ascending=False)['DEBUG_INFO']"
   ]
  },
  {
   "cell_type": "code",
   "execution_count": 5,
   "metadata": {},
   "outputs": [
    {
     "data": {
      "text/plain": [
       "<matplotlib.axes._subplots.AxesSubplot at 0x1184c9978>"
      ]
     },
     "execution_count": 5,
     "metadata": {},
     "output_type": "execute_result"
    },
    {
     "data": {
      "image/png": "[encoded data removed]",
      "text/plain": [
       "<Figure size 432x288 with 1 Axes>"
      ]
     },
     "metadata": {
      "needs_background": "light"
     },
     "output_type": "display_data"
    }
   ],
   "source": [
    "res.plot(y=\"mean\", x=\"train_size\")"
   ]
  },
  {
   "cell_type": "code",
   "execution_count": null,
   "metadata": {},
   "outputs": [],
   "source": []
  }
 ],
 "metadata": {
  "kernelspec": {
   "display_name": "Python 3",
   "language": "python",
   "name": "python3"
  },
  "language_info": {
   "codemirror_mode": {
    "name": "ipython",
    "version": 3
   },
   "file_extension": ".py",
   "mimetype": "text/x-python",
   "name": "python",
   "nbconvert_exporter": "python",
   "pygments_lexer": "ipython3",
   "version": "3.7.3"
  }
 },
 "nbformat": 4,
 "nbformat_minor": 2
}
